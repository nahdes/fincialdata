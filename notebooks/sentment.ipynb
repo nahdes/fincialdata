{
 "cells": [
  {
   "cell_type": "markdown",
   "metadata": {},
   "source": [
    "importing necessary libray"
   ]
  },
  {
   "cell_type": "code",
   "execution_count": 3,
   "metadata": {},
   "outputs": [],
   "source": [
    "import pandas as pd\n",
    "import matplotlib.pyplot as plt\n",
    "from textblob import TextBlob\n",
    "from sklearn.feature_extraction.text import CountVectorizer\n",
    "from sklearn.decomposition import LatentDirichletAllocation\n",
    "import re"
   ]
  },
  {
   "cell_type": "markdown",
   "metadata": {},
   "source": [
    "function to import  the dataset from google drive "
   ]
  },
  {
   "cell_type": "code",
   "execution_count": 5,
   "metadata": {},
   "outputs": [],
   "source": [
    "def download_file(file_id, output):\n",
    "    \"\"\"Downloads a file from Google Drive using its file ID.\"\"\"\n",
    "    import gdown\n",
    "    url = f'https://drive.google.com/uc?id={file_id}'\n",
    "    gdown.download(url, output, quiet=False)"
   ]
  },
  {
   "cell_type": "markdown",
   "metadata": {},
   "source": [
    "function to load the dataset "
   ]
  },
  {
   "cell_type": "code",
   "execution_count": 6,
   "metadata": {},
   "outputs": [],
   "source": [
    "def load_data(filepath):\n",
    "    \"\"\"Loads data from a CSV file.\"\"\"\n",
    "    return pd.read_csv(filepath)"
   ]
  },
  {
   "cell_type": "markdown",
   "metadata": {},
   "source": [
    "Preprocesses the dataset by cleaning and extracting useful information."
   ]
  },
  {
   "cell_type": "code",
   "execution_count": 7,
   "metadata": {},
   "outputs": [
    {
     "name": "stderr",
     "output_type": "stream",
     "text": [
      "<>:8: SyntaxWarning: invalid escape sequence '\\w'\n",
      "<>:8: SyntaxWarning: invalid escape sequence '\\w'\n",
      "C:\\Users\\Ghost\\AppData\\Local\\Temp\\ipykernel_15204\\573409954.py:8: SyntaxWarning: invalid escape sequence '\\w'\n",
      "  df['headline_clean'] = df['headline'].str.lower().str.replace('[^\\w\\s]', '', regex=True)\n"
     ]
    }
   ],
   "source": [
    "def preprocess_data(df):\n",
    "    \n",
    "    df['headline_length'] = df['headline'].str.len()\n",
    "    df['date'] = pd.to_datetime(df['date'], errors='coerce')\n",
    "    df['year'] = df['date'].dt.year\n",
    "    df['month'] = df['date'].dt.month\n",
    "    df['day_of_week'] = df['date'].dt.day_name()\n",
    "    df['headline_clean'] = df['headline'].str.lower().str.replace('[^\\w\\s]', '', regex=True)\n",
    "    return df"
   ]
  },
  {
   "cell_type": "markdown",
   "metadata": {},
   "source": [
    "Function to Prints basic statistics about the dataset."
   ]
  },
  {
   "cell_type": "code",
   "execution_count": 9,
   "metadata": {},
   "outputs": [],
   "source": [
    "def analyze_statistics(df):\n",
    "\n",
    "    print(\"Headline Length Statistics:\")\n",
    "    print(df['headline_length'].describe())\n",
    "    print(\"\\nPublisher Counts:\")\n",
    "    print(df['publisher'].value_counts())"
   ]
  },
  {
   "cell_type": "markdown",
   "metadata": {},
   "source": [
    "function to  Plots trends in article counts by year, month, and day of the week"
   ]
  },
  {
   "cell_type": "code",
   "execution_count": 10,
   "metadata": {},
   "outputs": [],
   "source": [
    "def plot_trends(df):\n",
    "    \n",
    "    articles_per_year = df['year'].value_counts().sort_index()\n",
    "    articles_per_month = df['month'].value_counts().sort_index()\n",
    "    articles_by_day = df['day_of_week'].value_counts()\n",
    "\n",
    "    plt.figure(figsize=(14, 8))\n",
    "    plt.subplot(3, 1, 1)\n",
    "    articles_per_year.plot(kind='bar', color='skyblue')\n",
    "    plt.title('Articles Per Year')\n",
    "    plt.subplot(3, 1, 2)\n",
    "    articles_per_month.plot(kind='bar', color='orange')\n",
    "    plt.title('Articles Per Month')\n",
    "    plt.subplot(3, 1, 3)\n",
    "    articles_by_day.plot(kind='bar', color='green')\n",
    "    plt.title('Articles By Day of the Week')\n",
    "    plt.tight_layout()\n",
    "    plt.show()"
   ]
  },
  {
   "cell_type": "markdown",
   "metadata": {},
   "source": [
    "function to Analyzes and categorizes the sentiment of headlines"
   ]
  },
  {
   "cell_type": "code",
   "execution_count": null,
   "metadata": {},
   "outputs": [],
   "source": [
    "def analyze_sentiments(df):\n",
    "    \n",
    "    def get_sentiment(text):\n",
    "        analysis = TextBlob(text)\n",
    "        return 'Positive' if analysis.sentiment.polarity > 0 else 'Negative' if analysis.sentiment.polarity < 0 else 'Neutral'\n",
    "\n",
    "    df['sentiment'] = df['headline'].apply(get_sentiment)\n",
    "    print(\"\\nSentiment Counts:\")\n",
    "    print(df['sentiment'].value_counts())\n"
   ]
  },
  {
   "cell_type": "markdown",
   "metadata": {},
   "source": [
    "function to Performs topic modeling on the dataset headlines."
   ]
  },
  {
   "cell_type": "code",
   "execution_count": 12,
   "metadata": {},
   "outputs": [],
   "source": [
    "def topic_modeling(df, n_topics=5):\n",
    "    \n",
    "    vectorizer = CountVectorizer(stop_words='english')\n",
    "    doc_term_matrix = vectorizer.fit_transform(df['headline'].dropna())\n",
    "    lda_model = LatentDirichletAllocation(n_components=n_topics, random_state=42)\n",
    "    lda_model.fit(doc_term_matrix)\n",
    "\n",
    "    words = vectorizer.get_feature_names_out()\n",
    "    print(\"\\nTopics:\")\n",
    "    for idx, topic in enumerate(lda_model.components_):\n",
    "        print(f\"Topic {idx + 1}:\")\n",
    "        print([words[i] for i in topic.argsort()[-10:]])"
   ]
  },
  {
   "cell_type": "markdown",
   "metadata": {},
   "source": [
    "Function to Plots publication trends over time."
   ]
  },
  {
   "cell_type": "code",
   "execution_count": 13,
   "metadata": {},
   "outputs": [],
   "source": [
    "def plot_publication_trends(df):\n",
    "    \n",
    "    df['date_only'] = df['date'].dt.date\n",
    "    daily_publications = df.groupby('date_only').size()\n",
    "\n",
    "    plt.figure(figsize=(12, 6))\n",
    "    daily_publications.plot()\n",
    "    plt.title(\"Article Publication Frequency Over Time\")\n",
    "    plt.xlabel(\"Date\")\n",
    "    plt.ylabel(\"Number of Articles\")\n",
    "    plt.xticks(rotation=45)\n",
    "    plt.show()\n"
   ]
  },
  {
   "cell_type": "markdown",
   "metadata": {},
   "source": [
    "function to Analyzes publishers and plots the top 10 publishers by article count."
   ]
  },
  {
   "cell_type": "code",
   "execution_count": 15,
   "metadata": {},
   "outputs": [],
   "source": [
    "def analyze_publishers(df):\n",
    "    \n",
    "    publisher_counts = df['publisher'].value_counts()\n",
    "\n",
    "    plt.figure(figsize=(12, 6))\n",
    "    publisher_counts.head(10).plot(kind='bar', color='skyblue')\n",
    "    plt.title(\"Top 10 Publishers by Number of Articles\")\n",
    "    plt.xlabel(\"Publisher\")\n",
    "    plt.ylabel(\"Number of Articles\")\n",
    "    plt.xticks(rotation=45, ha='right')\n",
    "    plt.tight_layout()\n",
    "    plt.show()\n"
   ]
  }
 ],
 "metadata": {
  "kernelspec": {
   "display_name": "venv",
   "language": "python",
   "name": "python3"
  },
  "language_info": {
   "codemirror_mode": {
    "name": "ipython",
    "version": 3
   },
   "file_extension": ".py",
   "mimetype": "text/x-python",
   "name": "python",
   "nbconvert_exporter": "python",
   "pygments_lexer": "ipython3",
   "version": "3.13.1"
  }
 },
 "nbformat": 4,
 "nbformat_minor": 2
}
